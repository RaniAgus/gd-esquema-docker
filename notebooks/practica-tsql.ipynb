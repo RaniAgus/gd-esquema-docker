{
    "metadata": {
        "kernelspec": {
            "name": "SQL",
            "display_name": "SQL",
            "language": "sql"
        },
        "language_info": {
            "name": "sql",
            "version": ""
        }
    },
    "nbformat_minor": 2,
    "nbformat": 4,
    "cells": [
        {
            "cell_type": "markdown",
            "source": [
                "# Práctica de T-SQL\n",
                "\n",
                "**Según el modelo dado resuelva:**"
            ],
            "metadata": {
                "azdata_cell_guid": "2cffc6f8-bf55-4413-afa8-aab25fdc6000"
            },
            "attachments": {}
        },
        {
            "cell_type": "markdown",
            "source": [
                "1\\. Hacer una función que dado un artículo y un deposito devuelva un string que indique el estado del depósito según el artículo. Si la cantidad almacenada es menor al límite retornar “OCUPACION DEL DEPOSITO XX %” siendo XX el % de ocupación. Si la cantidad almacenada es mayor o igual al límite retornar “DEPOSITO COMPLETO”."
            ],
            "metadata": {
                "azdata_cell_guid": "3cb02987-ea26-4395-94c5-5d68ec468783"
            },
            "attachments": {}
        },
        {
            "cell_type": "code",
            "source": [],
            "metadata": {
                "azdata_cell_guid": "7d6d5618-5ea0-4e95-b87f-72ad97bc6103",
                "language": "sql"
            },
            "outputs": [],
            "execution_count": null
        },
        {
            "cell_type": "markdown",
            "source": [
                "2\\. Realizar una función que dado un artículo y una fecha, retorne el stock que existía a esa fecha."
            ],
            "metadata": {
                "azdata_cell_guid": "3f56229f-3a1b-4c38-bfa6-d2c4cbaec083"
            },
            "attachments": {}
        },
        {
            "cell_type": "code",
            "source": [],
            "metadata": {
                "azdata_cell_guid": "dead5eb1-ae87-46ae-b516-c38055bca1da",
                "language": "sql"
            },
            "outputs": [],
            "execution_count": null
        },
        {
            "cell_type": "markdown",
            "source": [
                "3\\. Cree el/los objetos de base de datos necesarios para corregir la tabla empleado en caso que sea necesario. Se sabe que debería existir un único gerente general (debería ser el único empleado sin jefe). Si detecta que hay más de un empleado sin jefe deberá elegir entre ellos el gerente general, el cual será seleccionado por mayor salario. Si hay más de uno se seleccionara el de mayor antigüedad en la empresa. Al finalizar la ejecución del objeto la tabla deberá cumplir con la regla de un único empleado sin jefe (el gerente general) y deberá retornar la cantidad de empleados que había sin jefe antes de la ejecución."
            ],
            "metadata": {
                "azdata_cell_guid": "6ece2991-6798-4c8b-9447-ca211669e8e8"
            },
            "attachments": {}
        },
        {
            "cell_type": "code",
            "source": [],
            "metadata": {
                "azdata_cell_guid": "045757c7-42f6-4c60-bfe4-97ef8d297c21",
                "language": "sql"
            },
            "outputs": [],
            "execution_count": null
        },
        {
            "cell_type": "markdown",
            "source": [
                "4\\. Cree el/los objetos de base de datos necesarios para actualizar la columna de empleado empl\\_comision con la sumatoria del total de lo vendido por ese empleado a lo largo del último año. Se deberá retornar el código del vendedor que más vendió (en monto) a lo largo del último año."
            ],
            "metadata": {
                "azdata_cell_guid": "ea77fc58-fb28-440d-b5d6-69d0c27a5e63"
            },
            "attachments": {}
        },
        {
            "cell_type": "code",
            "source": [],
            "metadata": {
                "azdata_cell_guid": "3e412583-eba7-4a3a-9d66-f9ba3fa2eaa7",
                "language": "sql"
            },
            "outputs": [],
            "execution_count": null
        },
        {
            "cell_type": "markdown",
            "source": [
                "5\\. Realizar un procedimiento que complete con los datos existentes en el modelo provisto la tabla de hechos denominada Fact\\_table tiene las siguiente definición:"
            ],
            "metadata": {
                "azdata_cell_guid": "9b02e206-1581-424c-a674-f2e102065774"
            },
            "attachments": {}
        },
        {
            "cell_type": "code",
            "source": [
                "CREATE TABLE Fact_table(\n",
                "    anio char(4),\n",
                "    mes char(2),\n",
                "    familia char(3),\n",
                "    rubro char(4),\n",
                "    zona char(3),\n",
                "    cliente char(6),\n",
                "    producto char(8),\n",
                "    cantidad decimal(12,2),\n",
                "    monto decimal(12,2)\n",
                ")\n",
                "\n",
                "ALTER TABLE Fact_table\n",
                "ADD CONSTRAINT Fact_table_PK\n",
                "PRIMARY KEY (anio, mes, familia, rubro, zona, cliente, producto)"
            ],
            "metadata": {
                "azdata_cell_guid": "ea3efe31-05c5-483f-a31c-a1225667e434",
                "language": "sql"
            },
            "outputs": [],
            "execution_count": null
        },
        {
            "cell_type": "code",
            "source": [],
            "metadata": {
                "azdata_cell_guid": "abca3fa0-4299-4d71-9ec3-0e146e91189c",
                "language": "sql"
            },
            "outputs": [],
            "execution_count": null
        },
        {
            "cell_type": "markdown",
            "source": [
                "6\\. Realizar un procedimiento que si en alguna factura se facturaron componentes que conforman un combo determinado (o sea que juntos componen otro producto de mayor nivel), en cuyo caso deberá reemplazar las filas correspondientes a dichos productos por una sola fila con el producto que componen con la cantidad de dicho producto que corresponda."
            ],
            "metadata": {
                "azdata_cell_guid": "cbd885a1-a848-4224-a8ed-286ad4b818bf"
            },
            "attachments": {}
        },
        {
            "cell_type": "code",
            "source": [],
            "metadata": {
                "azdata_cell_guid": "38cf0a40-a9c4-4a0c-9f5d-4873c2d019b5",
                "language": "sql"
            },
            "outputs": [],
            "execution_count": null
        },
        {
            "cell_type": "markdown",
            "source": [
                "7\\. Hacer un procedimiento que dadas dos fechas complete la tabla Ventas. Debe insertar una línea por cada artículo con los movimientos de stock realizados entre esas fechas. La tabla se encuentra creada y vacía.\n",
                "\n",
                "VENTAS\n",
                "\n",
                "- Código: Código del artículo\n",
                "- Detalle: Detalle del artículo\n",
                "- Cant. Mov. : Cantidad de movimientos de ventas (Item factura)\n",
                "- Precio de Venta: Precio promedio de venta\n",
                "- Renglón: Nro. de línea de la tabla\n",
                "- Ganancia: Precio de Venta - Cantidad \\* Costo Actual"
            ],
            "metadata": {
                "azdata_cell_guid": "3511af14-d1a2-42a7-95d7-7332bd9dc0eb"
            },
            "attachments": {}
        },
        {
            "cell_type": "code",
            "source": [],
            "metadata": {
                "azdata_cell_guid": "85169571-8592-4705-a07e-6e29e75225a5",
                "language": "sql"
            },
            "outputs": [],
            "execution_count": null
        },
        {
            "cell_type": "markdown",
            "source": [
                "8\\. Realizar un procedimiento que complete la tabla Diferencias de precios, para los productos facturados que tengan composición y en los cuales el precio de facturación sea diferente al precio del cálculo de los precios unitarios por cantidad de sus componentes, se aclara que un producto que compone a otro, también puede estar compuesto por otros y así sucesivamente, la tabla se debe crear y está formada por las siguientes columnas:\n",
                "\n",
                "DIFERENCIAS\n",
                "\n",
                "- Código: Código del artículo\n",
                "- Detalle: Detalle del artículo\n",
                "- Cantidad: Cantidad de productos que conforman el combo\n",
                "- Precio\\_generado: Precio que se compone a través de sus componentes\n",
                "- Precio\\_facturado: Precio del producto"
            ],
            "metadata": {
                "azdata_cell_guid": "e1e05f87-048e-447a-bd77-4547dc3aae13"
            },
            "attachments": {}
        },
        {
            "cell_type": "code",
            "source": [],
            "metadata": {
                "azdata_cell_guid": "92a918aa-0db3-441d-80d4-9b0cc40e316f",
                "language": "sql"
            },
            "outputs": [],
            "execution_count": null
        },
        {
            "cell_type": "markdown",
            "source": [
                "9\\. Crear el/los objetos de base de datos que ante alguna modificación de un ítem de\n",
                "factura de un artículo con composición realice el movimiento de sus\n",
                "correspondientes componentes."
            ],
            "metadata": {
                "azdata_cell_guid": "62c975fb-131a-4557-975e-f04f34e7cc65"
            },
            "attachments": {}
        },
        {
            "cell_type": "code",
            "source": [],
            "metadata": {
                "azdata_cell_guid": "79a04677-20d0-4c55-9d1a-45f2285165a0",
                "language": "sql"
            },
            "outputs": [],
            "execution_count": null
        },
        {
            "cell_type": "markdown",
            "source": [
                "10\\. Crear el/los objetos de base de datos que ante el intento de borrar un artículo\n",
                "verifique que no exista stock y si es así lo borre en caso contrario que emita un\n",
                "mensaje de error."
            ],
            "metadata": {
                "azdata_cell_guid": "6b5f2f2f-5269-4ffc-b97f-ef158f995f4f"
            },
            "attachments": {}
        },
        {
            "cell_type": "code",
            "source": [],
            "metadata": {
                "azdata_cell_guid": "99da7dd9-b22c-43ac-b332-5d1d35841cf4",
                "language": "sql"
            },
            "outputs": [],
            "execution_count": null
        },
        {
            "cell_type": "markdown",
            "source": [
                "11\\. Cree el/los objetos de base de datos necesarios para que dado un código de\n",
                "empleado se retorne la cantidad de empleados que este tiene a su cargo (directa o\n",
                "indirectamente). Solo contar aquellos empleados (directos o indirectos) que sean\n",
                "errores que su jefe directo."
            ],
            "metadata": {
                "azdata_cell_guid": "f83103be-a25f-4915-808f-79d2999735d2"
            },
            "attachments": {}
        },
        {
            "cell_type": "code",
            "source": [],
            "metadata": {
                "azdata_cell_guid": "d5cb79c3-e1b4-4cb0-ac91-c38e4c01c890",
                "language": "sql"
            },
            "outputs": [],
            "execution_count": null
        },
        {
            "cell_type": "markdown",
            "source": [
                "12\\. Cree el/los objetos de base de datos necesarios para que nunca un producto pueda\n",
                "ser compuesto por sí mismo. Se sabe que en la actualidad dicha regla se cumple y\n",
                "que la base de datos es accedida por n aplicaciones de diferentes tipos y tecnologías.\n",
                "No se conoce la cantidad de niveles de composición existentes."
            ],
            "metadata": {
                "azdata_cell_guid": "3b6ccfe6-95e4-42bc-a90b-014cc5304c0b"
            },
            "attachments": {}
        },
        {
            "cell_type": "code",
            "source": [],
            "metadata": {
                "azdata_cell_guid": "3d25f567-2e04-42df-aa83-9a36f0685c2d",
                "language": "sql"
            },
            "outputs": [],
            "execution_count": null
        },
        {
            "cell_type": "markdown",
            "source": [
                "13\\. Cree el/los objetos de base de datos necesarios para implantar la siguiente regla\n",
                "“Ningún jefe puede tener un salario mayor al 20% de las suma de los salarios de sus\n",
                "empleados totales (directos + indirectos)”. Se sabe que en la actualidad dicha regla\n",
                "se cumple y que la base de datos es accedida por n aplicaciones de diferentes tipos y\n",
                "tecnologías"
            ],
            "metadata": {
                "azdata_cell_guid": "e34f7c50-5d76-479f-be36-789ad2ef0b0e"
            },
            "attachments": {}
        },
        {
            "cell_type": "code",
            "source": [],
            "metadata": {
                "azdata_cell_guid": "dc29c5f5-4e8d-4575-ae10-2c41b4428b43",
                "language": "sql"
            },
            "outputs": [],
            "execution_count": null
        },
        {
            "cell_type": "markdown",
            "source": [
                "14\\. Agregar el/los objetos necesarios para que si un cliente compra un producto\n",
                "compuesto a un precio menor que la suma de los precios de sus componentes que\n",
                "imprima la fecha, que cliente, que productos y a qué precio se realizó la compra.\n",
                "No se deberá permitir que dicho precio sea menor a la mitad de la suma de los\n",
                "componentes."
            ],
            "metadata": {
                "azdata_cell_guid": "61d4cb83-78cb-455d-a91f-6f7db1169056"
            },
            "attachments": {}
        },
        {
            "cell_type": "code",
            "source": [],
            "metadata": {
                "azdata_cell_guid": "6bdfbeac-5291-42c4-85ba-cd15d7a38a7f",
                "language": "sql"
            },
            "outputs": [],
            "execution_count": null
        },
        {
            "cell_type": "markdown",
            "source": [
                "15\\. Cree el/los objetos de base de datos necesarios para que el objeto principal reciba un\n",
                "producto como parametro y retorne el precio del mismo.\n",
                "Se debe prever que el precio de los productos compuestos sera la sumatoria de los\n",
                "componentes del mismo multiplicado por sus respectivas cantidades. No se conocen\n",
                "los nivles de anidamiento posibles de los productos. Se asegura que nunca un\n",
                "producto esta compuesto por si mismo a ningun nivel. El objeto principal debe\n",
                "poder ser utilizado como filtro en el where de una sentencia select.\n"
            ],
            "metadata": {
                "azdata_cell_guid": "633e47b1-80cf-437d-977f-dc1a0dd8ee1b"
            },
            "attachments": {}
        },
        {
            "cell_type": "code",
            "source": [],
            "metadata": {
                "azdata_cell_guid": "a42b75f9-bb47-4a05-9a66-9d262931a49d",
                "language": "sql"
            },
            "outputs": [],
            "execution_count": null
        },
        {
            "cell_type": "markdown",
            "source": [
                "16\\. Desarrolle el/los elementos de base de datos necesarios para que ante una venta\n",
                "automaticamante se descuenten del stock los articulos vendidos. Se descontaran del\n",
                "deposito que mas producto poseea y se supone que el stock se almacena tanto de\n",
                "productos simples como compuestos (si se acaba el stock de los compuestos no se\n",
                "arman combos)\n",
                "En caso que no alcance el stock de un deposito se descontara del siguiente y asi\n",
                "hasta agotar los depositos posibles. En ultima instancia se dejara stock negativo en\n",
                "el ultimo deposito que se desconto."
            ],
            "metadata": {
                "azdata_cell_guid": "3f77c084-d0fe-43a9-993d-9e1f20ef5a17"
            },
            "attachments": {}
        },
        {
            "cell_type": "code",
            "source": [],
            "metadata": {
                "azdata_cell_guid": "727df1dd-bde8-44b7-88ec-689e98a81c8b",
                "language": "sql"
            },
            "outputs": [],
            "execution_count": null
        },
        {
            "cell_type": "markdown",
            "source": [
                "17\\. Sabiendo que el punto de reposicion del stock es la menor cantidad de ese objeto\n",
                "que se debe almacenar en el deposito y que el stock maximo es la maxima cantidad\n",
                "de ese producto en ese deposito, cree el/los objetos de base de datos necesarios para\n",
                "que dicha regla de negocio se cumpla automaticamente. No se conoce la forma de\n",
                "acceso a los datos ni el procedimiento por el cual se incrementa o descuenta stock"
            ],
            "metadata": {
                "azdata_cell_guid": "a4c52b55-c07d-4f37-8f12-c8d0b70ad70b"
            },
            "attachments": {}
        },
        {
            "cell_type": "code",
            "source": [],
            "metadata": {
                "azdata_cell_guid": "e5963f02-2300-411b-867b-92243a805c22",
                "language": "sql"
            },
            "outputs": [],
            "execution_count": null
        },
        {
            "cell_type": "markdown",
            "source": [
                "18\\. Sabiendo que el limite de credito de un cliente es el monto maximo que se le puede\n",
                "facturar mensualmente, cree el/los objetos de base de datos necesarios para que\n",
                "dicha regla de negocio se cumpla automaticamente. No se conoce la forma de\n",
                "acceso a los datos ni el procedimiento por el cual se emiten las facturas"
            ],
            "metadata": {
                "azdata_cell_guid": "e4a5d468-a8e1-4647-ab55-f1a3e9fd019a"
            },
            "attachments": {}
        },
        {
            "cell_type": "code",
            "source": [],
            "metadata": {
                "azdata_cell_guid": "14d54eae-f7bb-46d9-890d-fc4c7565e23b",
                "language": "sql"
            },
            "outputs": [],
            "execution_count": null
        },
        {
            "cell_type": "markdown",
            "source": [
                "19\\. Cree el/los objetos de base de datos necesarios para que se cumpla la siguiente regla\n",
                "de negocio automáticamente “Ningún jefe puede tener menos de 5 años de\n",
                "antigüedad y tampoco puede tener más del 50% del personal a su cargo (contando\n",
                "directos e indirectos) a excepción del gerente general”. Se sabe que en la actualidad\n",
                "la regla se cumple y existe un único gerente general."
            ],
            "metadata": {
                "azdata_cell_guid": "d5aedc12-4cb9-443d-a3fb-4090f82d9440"
            },
            "attachments": {}
        },
        {
            "cell_type": "code",
            "source": [],
            "metadata": {
                "azdata_cell_guid": "cb3a5ab5-7633-46aa-ae70-6f239a8cb864",
                "language": "sql"
            },
            "outputs": [],
            "execution_count": null
        },
        {
            "cell_type": "markdown",
            "source": [
                "20\\. Crear el/los objeto/s necesarios para mantener actualizadas las comisiones del\n",
                "vendedor.\n",
                "El cálculo de la comisión está dado por el 5% de la venta total efectuada por ese\n",
                "vendedor en ese mes, más un 3% adicional en caso de que ese vendedor haya\n",
                "vendido por lo menos 50 productos distintos en el mes."
            ],
            "metadata": {
                "azdata_cell_guid": "74596dc5-7a22-4362-84b5-39bc1a4e0e7e"
            },
            "attachments": {}
        },
        {
            "cell_type": "code",
            "source": [],
            "metadata": {
                "azdata_cell_guid": "3463edf8-02d7-460e-ba94-816c36a3e3bf",
                "language": "sql"
            },
            "outputs": [],
            "execution_count": null
        },
        {
            "cell_type": "markdown",
            "source": [
                "21\\. Desarrolle el/los elementos de base de datos necesarios para que se cumpla\n",
                "automaticamente la regla de que en una factura no puede contener productos de\n",
                "diferentes familias. En caso de que esto ocurra no debe grabarse esa factura y debe\n",
                "emitirse un error en pantalla."
            ],
            "metadata": {
                "azdata_cell_guid": "7c8a21c9-f18f-4d4e-ad0c-a97be9c3cf47"
            },
            "attachments": {}
        },
        {
            "cell_type": "code",
            "source": [],
            "metadata": {
                "azdata_cell_guid": "bc6346b3-dbab-43c9-9e09-598f03df3fd6",
                "language": "sql"
            },
            "outputs": [],
            "execution_count": null
        },
        {
            "cell_type": "markdown",
            "source": [
                "22\\. Se requiere recategorizar los rubros de productos, de forma tal que nigun rubro\n",
                "tenga más de 20 productos asignados, si un rubro tiene más de 20 productos\n",
                "asignados se deberan distribuir en otros rubros que no tengan mas de 20 productos y\n",
                "si no entran se debra crear un nuevo rubro en la misma familia con la descirpción\n",
                "“RUBRO REASIGNADO”, cree el/los objetos de base de datos necesarios para que\n",
                "dicha regla de negocio quede implementada."
            ],
            "metadata": {
                "azdata_cell_guid": "5601fe72-6de9-4d04-a26b-2d8141542177"
            },
            "attachments": {}
        },
        {
            "cell_type": "code",
            "source": [],
            "metadata": {
                "azdata_cell_guid": "49488b08-13d3-4b35-9ea3-b4092a4b8156",
                "language": "sql"
            },
            "outputs": [],
            "execution_count": null
        },
        {
            "cell_type": "markdown",
            "source": [
                "23\\. Desarrolle el/los elementos de base de datos necesarios para que ante una venta\n",
                "automaticamante se controle que en una misma factura no puedan venderse más de\n",
                "dos productos con composición. Si esto ocurre debera rechazarse la factura."
            ],
            "metadata": {
                "azdata_cell_guid": "d3145856-edc4-4a1e-b952-7256247bba67"
            },
            "attachments": {}
        },
        {
            "cell_type": "code",
            "source": [],
            "metadata": {
                "azdata_cell_guid": "8006a779-4162-41ac-ade3-067af52bf15b",
                "language": "sql"
            },
            "outputs": [],
            "execution_count": null
        }
    ]
}