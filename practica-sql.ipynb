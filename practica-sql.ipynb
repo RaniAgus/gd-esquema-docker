{
    "cells": [
        {
            "attachments": {},
            "cell_type": "markdown",
            "metadata": {
                "azdata_cell_guid": "2cffc6f8-bf55-4413-afa8-aab25fdc6000"
            },
            "source": [
                "# Práctica de SQL\n",
                "\n",
                "**Según el modelo dado resuelva:**"
            ]
        },
        {
            "attachments": {},
            "cell_type": "markdown",
            "metadata": {
                "azdata_cell_guid": "3cb02987-ea26-4395-94c5-5d68ec468783"
            },
            "source": [
                "1\\. Mostrar el código, razón social de todos los clientes cuyo límite de crédito sea mayor o igual a $ 1000 ordenado por código de cliente."
            ]
        },
        {
            "cell_type": "code",
            "execution_count": null,
            "metadata": {
                "azdata_cell_guid": "7d6d5618-5ea0-4e95-b87f-72ad97bc6103",
                "language": "sql"
            },
            "outputs": [],
            "source": []
        },
        {
            "attachments": {},
            "cell_type": "markdown",
            "metadata": {
                "azdata_cell_guid": "3f56229f-3a1b-4c38-bfa6-d2c4cbaec083"
            },
            "source": [
                "2\\. Mostrar el código, detalle de todos los artículos vendidos en el año 2012 ordenados por cantidad vendida."
            ]
        },
        {
            "cell_type": "code",
            "execution_count": null,
            "metadata": {
                "azdata_cell_guid": "dead5eb1-ae87-46ae-b516-c38055bca1da",
                "language": "sql"
            },
            "outputs": [],
            "source": []
        },
        {
            "attachments": {},
            "cell_type": "markdown",
            "metadata": {
                "azdata_cell_guid": "6ece2991-6798-4c8b-9447-ca211669e8e8"
            },
            "source": [
                "3\\. Realizar una consulta que muestre código de producto, nombre de producto y el stock total, sin importar en que deposito se encuentre, los datos deben ser ordenados por nombre del artículo de menor a mayor."
            ]
        },
        {
            "cell_type": "code",
            "execution_count": null,
            "metadata": {
                "azdata_cell_guid": "045757c7-42f6-4c60-bfe4-97ef8d297c21",
                "language": "sql"
            },
            "outputs": [],
            "source": []
        },
        {
            "attachments": {},
            "cell_type": "markdown",
            "metadata": {
                "azdata_cell_guid": "ea77fc58-fb28-440d-b5d6-69d0c27a5e63"
            },
            "source": [
                "4\\. Realizar una consulta que muestre para todos los artículos código, detalle y cantidad de artículos que lo componen. Mostrar solo aquellos artículos para los cuales el stock promedio por depósito sea mayor a 100."
            ]
        },
        {
            "cell_type": "code",
            "execution_count": null,
            "metadata": {
                "azdata_cell_guid": "3e412583-eba7-4a3a-9d66-f9ba3fa2eaa7",
                "language": "sql"
            },
            "outputs": [],
            "source": []
        },
        {
            "attachments": {},
            "cell_type": "markdown",
            "metadata": {
                "azdata_cell_guid": "9b02e206-1581-424c-a674-f2e102065774"
            },
            "source": [
                "5\\. Realizar una consulta que muestre código de artículo, detalle y cantidad de egresos de stock que se realizaron para ese artículo en el año 2012 (egresan los productos que fueron vendidos). Mostrar solo aquellos que hayan tenido más egresos que en el 2011."
            ]
        },
        {
            "cell_type": "code",
            "execution_count": null,
            "metadata": {
                "azdata_cell_guid": "abca3fa0-4299-4d71-9ec3-0e146e91189c",
                "language": "sql"
            },
            "outputs": [],
            "source": []
        },
        {
            "attachments": {},
            "cell_type": "markdown",
            "metadata": {
                "azdata_cell_guid": "cbd885a1-a848-4224-a8ed-286ad4b818bf"
            },
            "source": [
                "6\\. Mostrar para todos los rubros de artículos código, detalle, cantidad de artículos de ese rubro y stock total de ese rubro de artículos. Solo tener en cuenta aquellos artículos que tengan un stock mayor al del artículo ‘00000000’ en el depósito ‘00’."
            ]
        },
        {
            "cell_type": "code",
            "execution_count": null,
            "metadata": {
                "azdata_cell_guid": "38cf0a40-a9c4-4a0c-9f5d-4873c2d019b5",
                "language": "sql"
            },
            "outputs": [],
            "source": []
        },
        {
            "attachments": {},
            "cell_type": "markdown",
            "metadata": {
                "azdata_cell_guid": "3511af14-d1a2-42a7-95d7-7332bd9dc0eb"
            },
            "source": [
                "7\\. Generar una consulta que muestre para cada articulo código, detalle, mayor precio, menor precio y % de la diferencia de precios (respecto del menor Ej.: menor precio = 10, mayor precio =12 =\\> mostrar 20 %). Mostrar solo aquellos artículos que posean stock."
            ]
        },
        {
            "cell_type": "code",
            "execution_count": null,
            "metadata": {
                "azdata_cell_guid": "85169571-8592-4705-a07e-6e29e75225a5",
                "language": "sql"
            },
            "outputs": [],
            "source": []
        },
        {
            "attachments": {},
            "cell_type": "markdown",
            "metadata": {
                "azdata_cell_guid": "e1e05f87-048e-447a-bd77-4547dc3aae13"
            },
            "source": [
                "8\\. Mostrar para el o los artículos que tengan stock en todos los depósitos, nombre del artículo, stock del depósito que más stock tiene."
            ]
        },
        {
            "cell_type": "code",
            "execution_count": null,
            "metadata": {
                "azdata_cell_guid": "92a918aa-0db3-441d-80d4-9b0cc40e316f",
                "language": "sql"
            },
            "outputs": [],
            "source": []
        },
        {
            "attachments": {},
            "cell_type": "markdown",
            "metadata": {
                "azdata_cell_guid": "62c975fb-131a-4557-975e-f04f34e7cc65"
            },
            "source": [
                "9\\. Mostrar el código del jefe, código del empleado que lo tiene como jefe, nombre del mismo y la cantidad de depósitos que ambos tienen asignados."
            ]
        },
        {
            "cell_type": "code",
            "execution_count": null,
            "metadata": {
                "azdata_cell_guid": "79a04677-20d0-4c55-9d1a-45f2285165a0",
                "language": "sql"
            },
            "outputs": [],
            "source": []
        },
        {
            "attachments": {},
            "cell_type": "markdown",
            "metadata": {
                "azdata_cell_guid": "6b5f2f2f-5269-4ffc-b97f-ef158f995f4f"
            },
            "source": [
                "10\\. Mostrar los 10 productos más vendidos en la historia y también los 10 productos menos vendidos en la historia. Además mostrar de esos productos, quien fue el cliente que mayor compra realizo."
            ]
        },
        {
            "cell_type": "code",
            "execution_count": null,
            "metadata": {
                "azdata_cell_guid": "99da7dd9-b22c-43ac-b332-5d1d35841cf4",
                "language": "sql"
            },
            "outputs": [],
            "source": []
        },
        {
            "attachments": {},
            "cell_type": "markdown",
            "metadata": {
                "azdata_cell_guid": "f83103be-a25f-4915-808f-79d2999735d2"
            },
            "source": [
                "11\\. Realizar una consulta que retorne el detalle de la familia, la cantidad diferentes de productos vendidos y el monto de dichas ventas sin impuestos. Los datos se deberán ordenar de mayor a menor, por la familia que más productos diferentes vendidos tenga, solo se deberán mostrar las familias que tengan una venta superior a 20000 pesos para el año 2012."
            ]
        },
        {
            "cell_type": "code",
            "execution_count": null,
            "metadata": {
                "azdata_cell_guid": "d5cb79c3-e1b4-4cb0-ac91-c38e4c01c890",
                "language": "sql"
            },
            "outputs": [],
            "source": []
        },
        {
            "attachments": {},
            "cell_type": "markdown",
            "metadata": {
                "azdata_cell_guid": "3b6ccfe6-95e4-42bc-a90b-014cc5304c0b"
            },
            "source": [
                "12\\. Mostrar nombre de producto, cantidad de clientes distintos que lo compraron importe promedio pagado por el producto, cantidad de depósitos en lo cuales hay stock del producto y stock actual del producto en todos los depósitos. Se deberán mostrar aquellos productos que hayan tenido operaciones en el año 2012 y los datos deberán ordenarse de mayor a menor por monto vendido del producto."
            ]
        },
        {
            "cell_type": "code",
            "execution_count": null,
            "metadata": {
                "azdata_cell_guid": "3d25f567-2e04-42df-aa83-9a36f0685c2d",
                "language": "sql"
            },
            "outputs": [],
            "source": []
        },
        {
            "attachments": {},
            "cell_type": "markdown",
            "metadata": {
                "azdata_cell_guid": "e34f7c50-5d76-479f-be36-789ad2ef0b0e"
            },
            "source": [
                "13\\. Realizar una consulta que retorne para cada producto que posea composición nombre del producto, precio del producto, precio de la sumatoria de los precios por la cantidad de los productos que lo componen. Solo se deberán mostrar los productos que estén compuestos por más de 2 productos y deben ser ordenados de mayor a menor por cantidad de productos que lo componen."
            ]
        },
        {
            "cell_type": "code",
            "execution_count": null,
            "metadata": {
                "azdata_cell_guid": "dc29c5f5-4e8d-4575-ae10-2c41b4428b43",
                "language": "sql"
            },
            "outputs": [],
            "source": []
        },
        {
            "attachments": {},
            "cell_type": "markdown",
            "metadata": {
                "azdata_cell_guid": "61d4cb83-78cb-455d-a91f-6f7db1169056"
            },
            "source": [
                "14\\. Escriba una consulta que retorne una estadística de ventas por cliente. Los campos\n",
                "\n",
                "que debe retornar son:\n",
                "\n",
                "- Código del cliente\n",
                "- Cantidad de veces que compro en el último año\n",
                "- Promedio por compra en el último año\n",
                "- Cantidad de productos diferentes que compro en el último año\n",
                "- Monto de la mayor compra que realizo en el último año\n",
                "\n",
                "Se deberán retornar todos los clientes ordenados por la cantidad de veces que compro en el último año.\n",
                "\n",
                "No se deberán visualizar NULLs en ninguna columna"
            ]
        },
        {
            "cell_type": "code",
            "execution_count": null,
            "metadata": {
                "azdata_cell_guid": "6bdfbeac-5291-42c4-85ba-cd15d7a38a7f",
                "language": "sql"
            },
            "outputs": [],
            "source": []
        },
        {
            "attachments": {},
            "cell_type": "markdown",
            "metadata": {
                "azdata_cell_guid": "633e47b1-80cf-437d-977f-dc1a0dd8ee1b"
            },
            "source": [
                "15\\. Escriba una consulta que retorne los pares de productos que hayan sido vendidos juntos (en la misma factura) más de 500 veces. El resultado debe mostrar el código y descripción de cada uno de los productos y la cantidad de veces que fueron vendidos juntos. El resultado debe estar ordenado por la cantidad de veces que se vendieron juntos dichos productos. Los distintos pares no deben retornarse más de una vez.\n",
                "\n",
                "Ejemplo de lo que retornaría la consulta:\n",
                "\n",
                "| PROD1 | DETALLE1 | PROD2 | DETALLE2 | VECES |\n",
                "| --- | --- | --- | --- | --- |\n",
                "| 1731 | MARLBORO KS | 1718 | PHILIPS MORRIS KS | 507 |\n",
                "| 1718 | PHILIPS MORRIS KS | 1705 | PHILIPS MORRIS BOX | 10562 |"
            ]
        },
        {
            "cell_type": "code",
            "execution_count": null,
            "metadata": {
                "azdata_cell_guid": "a42b75f9-bb47-4a05-9a66-9d262931a49d",
                "language": "sql"
            },
            "outputs": [],
            "source": []
        },
        {
            "attachments": {},
            "cell_type": "markdown",
            "metadata": {
                "azdata_cell_guid": "3f77c084-d0fe-43a9-993d-9e1f20ef5a17"
            },
            "source": [
                "16\\. Con el fin de lanzar una nueva campaña comercial para los clientes que menos compran en la empresa, se pide una consulta SQL que retorne aquellos clientes cuyas ventas son inferiores a 1/3 del promedio de ventas del/los producto/s que más se vendieron en el 2012.\n",
                "\n",
                "Además mostrar\n",
                "\n",
                "1. Nombre del Cliente\n",
                "2. Cantidad de unidades totales vendidas en el 2012 para ese cliente.\n",
                "3. Código de producto que mayor venta tuvo en el 2012 (en caso de existir más de 1, mostrar solamente el de menor código) para ese cliente.\n",
                "\n",
                "Aclaraciones:\n",
                "\n",
                "- La composición es de 2 niveles, es decir, un producto compuesto solo se compone de productos no compuestos.\n",
                "- Los clientes deben ser ordenados por código de provincia ascendente."
            ]
        },
        {
            "cell_type": "code",
            "execution_count": null,
            "metadata": {
                "azdata_cell_guid": "727df1dd-bde8-44b7-88ec-689e98a81c8b",
                "language": "sql"
            },
            "outputs": [],
            "source": []
        },
        {
            "attachments": {},
            "cell_type": "markdown",
            "metadata": {
                "azdata_cell_guid": "a4c52b55-c07d-4f37-8f12-c8d0b70ad70b"
            },
            "source": [
                "17\\. Escriba una consulta que retorne una estadística de ventas por año y mes para cada producto.\n",
                "\n",
                "La consulta debe retornar:\n",
                "\n",
                "- PERIODO: Año y mes de la estadística con el formato YYYYMM\n",
                "- PROD: Código de producto\n",
                "- DETALLE: Detalle del producto\n",
                "- CANTIDAD\\_VENDIDA= Cantidad vendida del producto en el periodo\n",
                "- VENTAS\\_AÑO\\_ANT= Cantidad vendida del producto en el mismo mes del periodo pero del año anterior\n",
                "- CANT\\_FACTURAS= Cantidad de facturas en las que se vendió el producto en el periodo\n",
                "\n",
                "La consulta no puede mostrar NULL en ninguna de sus columnas y debe estar ordenada por periodo y código de producto."
            ]
        },
        {
            "cell_type": "code",
            "execution_count": null,
            "metadata": {
                "azdata_cell_guid": "e5963f02-2300-411b-867b-92243a805c22",
                "language": "sql"
            },
            "outputs": [],
            "source": []
        },
        {
            "attachments": {},
            "cell_type": "markdown",
            "metadata": {
                "azdata_cell_guid": "e4a5d468-a8e1-4647-ab55-f1a3e9fd019a"
            },
            "source": [
                "18\\. Escriba una consulta que retorne una estadística de ventas para todos los rubros.\n",
                "\n",
                "La consulta debe retornar:\n",
                "\n",
                "- DETALLE\\_RUBRO: Detalle del rubro\n",
                "- VENTAS: Suma de las ventas en pesos de productos vendidos de dicho rubro\n",
                "- PROD1: Código del producto más vendido de dicho rubro\n",
                "- PROD2: Código del segundo producto más vendido de dicho rubro\n",
                "- CLIENTE: Código del cliente que compro más productos del rubro en los últimos 30 días\n",
                "\n",
                "La consulta no puede mostrar NULL en ninguna de sus columnas y debe estar ordenada por cantidad de productos diferentes vendidos del rubro."
            ]
        },
        {
            "cell_type": "code",
            "execution_count": null,
            "metadata": {
                "azdata_cell_guid": "14d54eae-f7bb-46d9-890d-fc4c7565e23b",
                "language": "sql"
            },
            "outputs": [],
            "source": []
        },
        {
            "attachments": {},
            "cell_type": "markdown",
            "metadata": {
                "azdata_cell_guid": "d5aedc12-4cb9-443d-a3fb-4090f82d9440"
            },
            "source": [
                "19\\. En virtud de una recategorizacion de productos referida a la familia de los mismos\n",
                "\n",
                "se solicita que desarrolle una consulta sql que retorne para todos los productos:\n",
                "\n",
                "- Codigo de producto\n",
                "- Detalle del producto\n",
                "- Codigo de la familia del producto\n",
                "- Detalle de la familia actual del producto\n",
                "- Codigo de la familia sugerido para el producto\n",
                "- Detalla de la familia sugerido para el producto\n",
                "\n",
                "La familia sugerida para un producto es la que poseen la mayoria de los productos cuyo detalle coinciden en los primeros 5 caracteres.\n",
                "\n",
                "En caso que 2 o mas familias pudieran ser sugeridas se debera seleccionar la de menor codigo. Solo se deben mostrar los productos para los cuales la familia actual sea diferente a la sugerida\n",
                "\n",
                "Los resultados deben ser ordenados por detalle de producto de manera ascendente"
            ]
        },
        {
            "cell_type": "code",
            "execution_count": null,
            "metadata": {
                "azdata_cell_guid": "cb3a5ab5-7633-46aa-ae70-6f239a8cb864",
                "language": "sql"
            },
            "outputs": [],
            "source": []
        },
        {
            "attachments": {},
            "cell_type": "markdown",
            "metadata": {
                "azdata_cell_guid": "74596dc5-7a22-4362-84b5-39bc1a4e0e7e"
            },
            "source": [
                "20\\. Escriba una consulta sql que retorne un ranking de los mejores 3 empleados del 2012\n",
                "\n",
                "Se debera retornar legajo, nombre y apellido, anio de ingreso, puntaje 2011, puntaje 2012. El puntaje de cada empleado se calculara de la siguiente manera: para los que hayan vendido al menos 50 facturas el puntaje se calculara como la cantidad de facturas que superen los 100 pesos que haya vendido en el año, para los que tengan menos de 10 facturas en el año el calculo del puntaje sera el 50% de cantidad de facturas realizadas por sus subordinados directos en dicho año."
            ]
        },
        {
            "cell_type": "code",
            "execution_count": null,
            "metadata": {
                "azdata_cell_guid": "3463edf8-02d7-460e-ba94-816c36a3e3bf",
                "language": "sql"
            },
            "outputs": [],
            "source": []
        },
        {
            "attachments": {},
            "cell_type": "markdown",
            "metadata": {
                "azdata_cell_guid": "7c8a21c9-f18f-4d4e-ad0c-a97be9c3cf47"
            },
            "source": [
                "21\\. Escriba una consulta sql que retorne para todos los años, en los cuales se haya hecho al menos una factura, la cantidad de clientes a los que se les facturo de manera incorrecta al menos una factura y que cantidad de facturas se realizaron de manera incorrecta. Se considera que una factura es incorrecta cuando la diferencia entre el total de la factura menos el total de impuesto tiene una diferencia mayor a $ 1 respecto a la sumatoria de los costos de cada uno de los items de dicha factura. Las columnas que se deben mostrar son:\n",
                "\n",
                "- Año\n",
                "- Clientes a los que se les facturo mal en ese año\n",
                "- Facturas mal realizadas en ese año"
            ]
        },
        {
            "cell_type": "code",
            "execution_count": null,
            "metadata": {
                "azdata_cell_guid": "bc6346b3-dbab-43c9-9e09-598f03df3fd6",
                "language": "sql"
            },
            "outputs": [],
            "source": []
        },
        {
            "attachments": {},
            "cell_type": "markdown",
            "metadata": {
                "azdata_cell_guid": "5601fe72-6de9-4d04-a26b-2d8141542177"
            },
            "source": [
                "22\\. Escriba una consulta sql que retorne una estadistica de venta para todos los rubros por trimestre contabilizando todos los años. Se mostraran como maximo 4 filas por rubro (1 por cada trimestre).\n",
                "\n",
                "- Se deben mostrar 4 columnas:\n",
                "- Detalle del rubro\n",
                "- Numero de trimestre del año (1 a 4)\n",
                "- Cantidad de facturas emitidas en el trimestre en las que se haya vendido al menos un producto del rubro\n",
                "- Cantidad de productos diferentes del rubro vendidos en el trimestre\n",
                "\n",
                "El resultado debe ser ordenado alfabeticamente por el detalle del rubro y dentro de cada rubro primero el trimestre en el que mas facturas se emitieron.\n",
                "\n",
                "No se deberan mostrar aquellos rubros y trimestres para los cuales las facturas emitiadas no superen las 100.\n",
                "\n",
                "En ningun momento se tendran en cuenta los productos compuestos para esta estadistica."
            ]
        },
        {
            "cell_type": "code",
            "execution_count": null,
            "metadata": {
                "azdata_cell_guid": "49488b08-13d3-4b35-9ea3-b4092a4b8156",
                "language": "sql"
            },
            "outputs": [],
            "source": []
        },
        {
            "attachments": {},
            "cell_type": "markdown",
            "metadata": {
                "azdata_cell_guid": "d3145856-edc4-4a1e-b952-7256247bba67"
            },
            "source": [
                "23\\. Realizar una consulta SQL que para cada año muestre :  \n",
                "\n",
                "- Año\n",
                "- El producto con composición más vendido para ese año.\n",
                "- Cantidad de productos que componen directamente al producto más vendido\n",
                "- La cantidad de facturas en las cuales aparece ese producto.\n",
                "- El código de cliente que más compro ese producto.\n",
                "- El porcentaje que representa la venta de ese producto respecto al total de venta del año.\n",
                "\n",
                "El resultado deberá ser ordenado por el total vendido por año en forma descendente."
            ]
        },
        {
            "cell_type": "code",
            "execution_count": null,
            "metadata": {
                "azdata_cell_guid": "8006a779-4162-41ac-ade3-067af52bf15b",
                "language": "sql"
            },
            "outputs": [],
            "source": []
        },
        {
            "attachments": {},
            "cell_type": "markdown",
            "metadata": {
                "azdata_cell_guid": "256188a9-058e-47c8-a2d4-59383744262a"
            },
            "source": [
                "24\\. Escriba una consulta que considerando solamente las facturas correspondientes a los dos vendedores con mayores comisiones, retorne los productos con composición facturados al menos en cinco facturas.\n",
                "\n",
                "La consulta debe retornar las siguientes columnas:\n",
                "\n",
                "- Código de Producto\n",
                "- Nombre del Producto\n",
                "- Unidades facturadas\n",
                "\n",
                "El resultado deberá ser ordenado por las unidades facturadas descendente."
            ]
        },
        {
            "cell_type": "code",
            "execution_count": null,
            "metadata": {
                "azdata_cell_guid": "b7e430ae-4d47-4df0-aaeb-230406adbdc7",
                "language": "sql"
            },
            "outputs": [],
            "source": []
        },
        {
            "attachments": {},
            "cell_type": "markdown",
            "metadata": {
                "azdata_cell_guid": "ac875631-f3ca-4502-a42c-0378e4c56e9e"
            },
            "source": [
                "25\\. Realizar una consulta SQL que para cada año y familia muestre :  \n",
                "\n",
                "- Año\n",
                "- El código de la familia más vendida en ese año.\n",
                "- Cantidad de Rubros que componen esa familia.\n",
                "- Cantidad de productos que componen directamente al producto más vendido\n",
                "- La cantidad de facturas en las cuales aparecen productos pertenecientes a esa familia.\n",
                "- El código de cliente que más compro productos de esa familia.\n",
                "- El porcentaje que representa la venta de esa familia respecto al total de venta del año.\n",
                "\n",
                "El resultado deberá ser ordenado por el total vendido por año y familia en forma descendente."
            ]
        },
        {
            "cell_type": "code",
            "execution_count": null,
            "metadata": {
                "azdata_cell_guid": "9a7e3463-cc53-4837-b98f-ee692b899924",
                "language": "sql"
            },
            "outputs": [],
            "source": []
        },
        {
            "attachments": {},
            "cell_type": "markdown",
            "metadata": {
                "azdata_cell_guid": "f8f0432d-3cc1-4863-a087-871e75b79e92"
            },
            "source": [
                "26\\. Escriba una consulta sql que retorne un ranking de empleados devolviendo las siguientes columnas:\n",
                "\n",
                "- Empleado\n",
                "- Depósitos que tiene a cargo\n",
                "- Monto total facturado en el año corriente\n",
                "- Codigo de Cliente al que mas le vendió\n",
                "- Producto más vendido\n",
                "- Porcentaje de la venta de ese empleado sobre el total vendido ese año.\n",
                "- Los datos deberan ser ordenados por venta del empleado de mayor a menor."
            ]
        },
        {
            "cell_type": "code",
            "execution_count": null,
            "metadata": {
                "azdata_cell_guid": "b270b8d0-3f50-4e4a-8d31-e9d31b81effe",
                "language": "sql"
            },
            "outputs": [],
            "source": []
        }
    ],
    "metadata": {
        "kernelspec": {
            "display_name": "SQL",
            "language": "sql",
            "name": "SQL"
        },
        "language_info": {
            "name": "sql",
            "version": ""
        }
    },
    "nbformat": 4,
    "nbformat_minor": 2
}
